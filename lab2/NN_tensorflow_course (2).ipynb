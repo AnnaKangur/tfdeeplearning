{
 "cells": [
  {
   "cell_type": "code",
   "execution_count": 1,
   "metadata": {
    "id": "xyTDj6uHdemO"
   },
   "outputs": [],
   "source": [
    "import pandas as pd\n",
    "import numpy as np\n",
    "import plotly.graph_objs as go\n",
    "from plotly.subplots import make_subplots\n",
    "import time\n",
    "import datetime\n",
    "\n",
    "#from google.colab import drive\n",
    "#drive.mount('/content/drive')"
   ]
  },
  {
   "cell_type": "markdown",
   "metadata": {
    "id": "YQJpgoxE8qqm"
   },
   "source": [
    "### Apple Watch data"
   ]
  },
  {
   "cell_type": "code",
   "execution_count": 2,
   "metadata": {
    "id": "vgBGmVHQ8oNh"
   },
   "outputs": [],
   "source": [
    "import xml.etree.ElementTree as ET\n",
    "import xmltodict as xd\n",
    "import pandas as pd\n",
    "import numpy as np"
   ]
  },
  {
   "cell_type": "code",
   "execution_count": 3,
   "metadata": {
    "id": "ShMJwcvfVcKu"
   },
   "outputs": [],
   "source": [
    "input_data = pd.read_csv('askar/ah_data.csv')\n",
    "ah_data = input_data.copy(deep=True)"
   ]
  },
  {
   "cell_type": "code",
   "execution_count": 4,
   "metadata": {},
   "outputs": [
    {
     "data": {
      "text/html": [
       "<div>\n",
       "<style scoped>\n",
       "    .dataframe tbody tr th:only-of-type {\n",
       "        vertical-align: middle;\n",
       "    }\n",
       "\n",
       "    .dataframe tbody tr th {\n",
       "        vertical-align: top;\n",
       "    }\n",
       "\n",
       "    .dataframe thead th {\n",
       "        text-align: right;\n",
       "    }\n",
       "</style>\n",
       "<table border=\"1\" class=\"dataframe\">\n",
       "  <thead>\n",
       "    <tr style=\"text-align: right;\">\n",
       "      <th></th>\n",
       "      <th>date</th>\n",
       "      <th>heartrate</th>\n",
       "      <th>calories</th>\n",
       "      <th>METs</th>\n",
       "    </tr>\n",
       "  </thead>\n",
       "  <tbody>\n",
       "    <tr>\n",
       "      <th>0</th>\n",
       "      <td>2021-08-13 17:04:53+03:00</td>\n",
       "      <td>88.2759</td>\n",
       "      <td>0.006941</td>\n",
       "      <td>0.000010</td>\n",
       "    </tr>\n",
       "    <tr>\n",
       "      <th>1</th>\n",
       "      <td>2021-08-13 20:39:14+03:00</td>\n",
       "      <td>70.6977</td>\n",
       "      <td>0.006941</td>\n",
       "      <td>0.000010</td>\n",
       "    </tr>\n",
       "    <tr>\n",
       "      <th>2</th>\n",
       "      <td>2021-08-14 05:16:15+03:00</td>\n",
       "      <td>51.5436</td>\n",
       "      <td>0.013974</td>\n",
       "      <td>0.000019</td>\n",
       "    </tr>\n",
       "    <tr>\n",
       "      <th>3</th>\n",
       "      <td>2021-08-14 07:16:27+03:00</td>\n",
       "      <td>66.4935</td>\n",
       "      <td>0.013974</td>\n",
       "      <td>0.000019</td>\n",
       "    </tr>\n",
       "    <tr>\n",
       "      <th>4</th>\n",
       "      <td>2021-08-14 12:39:46+03:00</td>\n",
       "      <td>97.2152</td>\n",
       "      <td>0.013974</td>\n",
       "      <td>0.000019</td>\n",
       "    </tr>\n",
       "  </tbody>\n",
       "</table>\n",
       "</div>"
      ],
      "text/plain": [
       "                        date  heartrate  calories      METs\n",
       "0  2021-08-13 17:04:53+03:00    88.2759  0.006941  0.000010\n",
       "1  2021-08-13 20:39:14+03:00    70.6977  0.006941  0.000010\n",
       "2  2021-08-14 05:16:15+03:00    51.5436  0.013974  0.000019\n",
       "3  2021-08-14 07:16:27+03:00    66.4935  0.013974  0.000019\n",
       "4  2021-08-14 12:39:46+03:00    97.2152  0.013974  0.000019"
      ]
     },
     "execution_count": 4,
     "metadata": {},
     "output_type": "execute_result"
    }
   ],
   "source": [
    "ah_data.head()"
   ]
  },
  {
   "cell_type": "markdown",
   "metadata": {},
   "source": [
    "Метаболический эквивалент METs$ = \\frac{calories}{weight}\\cdot time$"
   ]
  },
  {
   "cell_type": "code",
   "execution_count": 5,
   "metadata": {},
   "outputs": [
    {
     "data": {
      "text/plain": [
       "141"
      ]
     },
     "execution_count": 5,
     "metadata": {},
     "output_type": "execute_result"
    }
   ],
   "source": [
    "len(set(ah_data['METs']))"
   ]
  },
  {
   "cell_type": "code",
   "execution_count": 6,
   "metadata": {},
   "outputs": [
    {
     "data": {
      "text/plain": [
       "1220"
      ]
     },
     "execution_count": 6,
     "metadata": {},
     "output_type": "execute_result"
    }
   ],
   "source": [
    "len(ah_data['METs'])"
   ]
  },
  {
   "cell_type": "code",
   "execution_count": 7,
   "metadata": {
    "colab": {
     "base_uri": "https://localhost:8080/",
     "height": 487
    },
    "id": "H_YpfT50-Myq",
    "outputId": "06b087b2-3485-4fca-8ef9-12ced6337db2"
   },
   "outputs": [
    {
     "data": {
      "text/html": [
       "<div>\n",
       "<style scoped>\n",
       "    .dataframe tbody tr th:only-of-type {\n",
       "        vertical-align: middle;\n",
       "    }\n",
       "\n",
       "    .dataframe tbody tr th {\n",
       "        vertical-align: top;\n",
       "    }\n",
       "\n",
       "    .dataframe thead th {\n",
       "        text-align: right;\n",
       "    }\n",
       "</style>\n",
       "<table border=\"1\" class=\"dataframe\">\n",
       "  <thead>\n",
       "    <tr style=\"text-align: right;\">\n",
       "      <th></th>\n",
       "      <th>heartrate</th>\n",
       "      <th>calories</th>\n",
       "      <th>METs</th>\n",
       "      <th>day_of_week_sin</th>\n",
       "      <th>day_of_week_cos</th>\n",
       "      <th>hour_sin</th>\n",
       "      <th>hour_cos</th>\n",
       "      <th>heartrate_lag1</th>\n",
       "      <th>calories_lag1</th>\n",
       "      <th>METs_lag1</th>\n",
       "      <th>...</th>\n",
       "      <th>day_of_week_cos_lag2</th>\n",
       "      <th>hour_sin_lag2</th>\n",
       "      <th>hour_cos_lag2</th>\n",
       "      <th>heartrate_lag3</th>\n",
       "      <th>calories_lag3</th>\n",
       "      <th>METs_lag3</th>\n",
       "      <th>day_of_week_sin_lag3</th>\n",
       "      <th>day_of_week_cos_lag3</th>\n",
       "      <th>hour_sin_lag3</th>\n",
       "      <th>hour_cos_lag3</th>\n",
       "    </tr>\n",
       "  </thead>\n",
       "  <tbody>\n",
       "    <tr>\n",
       "      <th>3</th>\n",
       "      <td>66.4935</td>\n",
       "      <td>0.013974</td>\n",
       "      <td>0.000019</td>\n",
       "      <td>-0.974928</td>\n",
       "      <td>-0.222521</td>\n",
       "      <td>9.659258e-01</td>\n",
       "      <td>-2.588190e-01</td>\n",
       "      <td>51.5436</td>\n",
       "      <td>0.013974</td>\n",
       "      <td>0.000019</td>\n",
       "      <td>...</td>\n",
       "      <td>-0.900969</td>\n",
       "      <td>-8.660254e-01</td>\n",
       "      <td>5.000000e-01</td>\n",
       "      <td>88.2759</td>\n",
       "      <td>0.006941</td>\n",
       "      <td>0.000010</td>\n",
       "      <td>-0.433884</td>\n",
       "      <td>-0.900969</td>\n",
       "      <td>-9.659258e-01</td>\n",
       "      <td>-2.588190e-01</td>\n",
       "    </tr>\n",
       "    <tr>\n",
       "      <th>4</th>\n",
       "      <td>97.2152</td>\n",
       "      <td>0.013974</td>\n",
       "      <td>0.000019</td>\n",
       "      <td>-0.974928</td>\n",
       "      <td>-0.222521</td>\n",
       "      <td>1.224647e-16</td>\n",
       "      <td>-1.000000e+00</td>\n",
       "      <td>66.4935</td>\n",
       "      <td>0.013974</td>\n",
       "      <td>0.000019</td>\n",
       "      <td>...</td>\n",
       "      <td>-0.222521</td>\n",
       "      <td>9.659258e-01</td>\n",
       "      <td>2.588190e-01</td>\n",
       "      <td>70.6977</td>\n",
       "      <td>0.006941</td>\n",
       "      <td>0.000010</td>\n",
       "      <td>-0.433884</td>\n",
       "      <td>-0.900969</td>\n",
       "      <td>-8.660254e-01</td>\n",
       "      <td>5.000000e-01</td>\n",
       "    </tr>\n",
       "    <tr>\n",
       "      <th>5</th>\n",
       "      <td>109.7140</td>\n",
       "      <td>0.013974</td>\n",
       "      <td>0.000019</td>\n",
       "      <td>-0.974928</td>\n",
       "      <td>-0.222521</td>\n",
       "      <td>-1.000000e+00</td>\n",
       "      <td>-1.836970e-16</td>\n",
       "      <td>97.2152</td>\n",
       "      <td>0.013974</td>\n",
       "      <td>0.000019</td>\n",
       "      <td>...</td>\n",
       "      <td>-0.222521</td>\n",
       "      <td>9.659258e-01</td>\n",
       "      <td>-2.588190e-01</td>\n",
       "      <td>51.5436</td>\n",
       "      <td>0.013974</td>\n",
       "      <td>0.000019</td>\n",
       "      <td>-0.974928</td>\n",
       "      <td>-0.222521</td>\n",
       "      <td>9.659258e-01</td>\n",
       "      <td>2.588190e-01</td>\n",
       "    </tr>\n",
       "    <tr>\n",
       "      <th>6</th>\n",
       "      <td>120.9450</td>\n",
       "      <td>0.013974</td>\n",
       "      <td>0.000019</td>\n",
       "      <td>-0.974928</td>\n",
       "      <td>-0.222521</td>\n",
       "      <td>-8.660254e-01</td>\n",
       "      <td>5.000000e-01</td>\n",
       "      <td>109.7140</td>\n",
       "      <td>0.013974</td>\n",
       "      <td>0.000019</td>\n",
       "      <td>...</td>\n",
       "      <td>-0.222521</td>\n",
       "      <td>1.224647e-16</td>\n",
       "      <td>-1.000000e+00</td>\n",
       "      <td>66.4935</td>\n",
       "      <td>0.013974</td>\n",
       "      <td>0.000019</td>\n",
       "      <td>-0.974928</td>\n",
       "      <td>-0.222521</td>\n",
       "      <td>9.659258e-01</td>\n",
       "      <td>-2.588190e-01</td>\n",
       "    </tr>\n",
       "    <tr>\n",
       "      <th>7</th>\n",
       "      <td>90.6203</td>\n",
       "      <td>0.013974</td>\n",
       "      <td>0.000019</td>\n",
       "      <td>-0.974928</td>\n",
       "      <td>-0.222521</td>\n",
       "      <td>-2.588190e-01</td>\n",
       "      <td>9.659258e-01</td>\n",
       "      <td>120.9450</td>\n",
       "      <td>0.013974</td>\n",
       "      <td>0.000019</td>\n",
       "      <td>...</td>\n",
       "      <td>-0.222521</td>\n",
       "      <td>-1.000000e+00</td>\n",
       "      <td>-1.836970e-16</td>\n",
       "      <td>97.2152</td>\n",
       "      <td>0.013974</td>\n",
       "      <td>0.000019</td>\n",
       "      <td>-0.974928</td>\n",
       "      <td>-0.222521</td>\n",
       "      <td>1.224647e-16</td>\n",
       "      <td>-1.000000e+00</td>\n",
       "    </tr>\n",
       "    <tr>\n",
       "      <th>...</th>\n",
       "      <td>...</td>\n",
       "      <td>...</td>\n",
       "      <td>...</td>\n",
       "      <td>...</td>\n",
       "      <td>...</td>\n",
       "      <td>...</td>\n",
       "      <td>...</td>\n",
       "      <td>...</td>\n",
       "      <td>...</td>\n",
       "      <td>...</td>\n",
       "      <td>...</td>\n",
       "      <td>...</td>\n",
       "      <td>...</td>\n",
       "      <td>...</td>\n",
       "      <td>...</td>\n",
       "      <td>...</td>\n",
       "      <td>...</td>\n",
       "      <td>...</td>\n",
       "      <td>...</td>\n",
       "      <td>...</td>\n",
       "      <td>...</td>\n",
       "    </tr>\n",
       "    <tr>\n",
       "      <th>1215</th>\n",
       "      <td>69.5023</td>\n",
       "      <td>0.018089</td>\n",
       "      <td>0.000025</td>\n",
       "      <td>0.433884</td>\n",
       "      <td>-0.900969</td>\n",
       "      <td>-8.660254e-01</td>\n",
       "      <td>5.000000e-01</td>\n",
       "      <td>85.8101</td>\n",
       "      <td>0.018089</td>\n",
       "      <td>0.000025</td>\n",
       "      <td>...</td>\n",
       "      <td>-0.900969</td>\n",
       "      <td>-7.071068e-01</td>\n",
       "      <td>-7.071068e-01</td>\n",
       "      <td>57.1004</td>\n",
       "      <td>0.018089</td>\n",
       "      <td>0.000025</td>\n",
       "      <td>0.433884</td>\n",
       "      <td>-0.900969</td>\n",
       "      <td>2.588190e-01</td>\n",
       "      <td>-9.659258e-01</td>\n",
       "    </tr>\n",
       "    <tr>\n",
       "      <th>1216</th>\n",
       "      <td>69.3457</td>\n",
       "      <td>0.018089</td>\n",
       "      <td>0.000025</td>\n",
       "      <td>0.433884</td>\n",
       "      <td>-0.900969</td>\n",
       "      <td>-5.000000e-01</td>\n",
       "      <td>8.660254e-01</td>\n",
       "      <td>69.5023</td>\n",
       "      <td>0.018089</td>\n",
       "      <td>0.000025</td>\n",
       "      <td>...</td>\n",
       "      <td>-0.900969</td>\n",
       "      <td>-1.000000e+00</td>\n",
       "      <td>-1.836970e-16</td>\n",
       "      <td>95.5364</td>\n",
       "      <td>0.018089</td>\n",
       "      <td>0.000025</td>\n",
       "      <td>0.433884</td>\n",
       "      <td>-0.900969</td>\n",
       "      <td>-7.071068e-01</td>\n",
       "      <td>-7.071068e-01</td>\n",
       "    </tr>\n",
       "    <tr>\n",
       "      <th>1217</th>\n",
       "      <td>66.9284</td>\n",
       "      <td>0.018089</td>\n",
       "      <td>0.000025</td>\n",
       "      <td>0.433884</td>\n",
       "      <td>-0.900969</td>\n",
       "      <td>-2.588190e-01</td>\n",
       "      <td>9.659258e-01</td>\n",
       "      <td>69.3457</td>\n",
       "      <td>0.018089</td>\n",
       "      <td>0.000025</td>\n",
       "      <td>...</td>\n",
       "      <td>-0.900969</td>\n",
       "      <td>-8.660254e-01</td>\n",
       "      <td>5.000000e-01</td>\n",
       "      <td>85.8101</td>\n",
       "      <td>0.018089</td>\n",
       "      <td>0.000025</td>\n",
       "      <td>0.433884</td>\n",
       "      <td>-0.900969</td>\n",
       "      <td>-1.000000e+00</td>\n",
       "      <td>-1.836970e-16</td>\n",
       "    </tr>\n",
       "    <tr>\n",
       "      <th>1218</th>\n",
       "      <td>99.0968</td>\n",
       "      <td>0.014533</td>\n",
       "      <td>0.000020</td>\n",
       "      <td>-0.433884</td>\n",
       "      <td>-0.900969</td>\n",
       "      <td>8.660254e-01</td>\n",
       "      <td>-5.000000e-01</td>\n",
       "      <td>66.9284</td>\n",
       "      <td>0.018089</td>\n",
       "      <td>0.000025</td>\n",
       "      <td>...</td>\n",
       "      <td>-0.900969</td>\n",
       "      <td>-5.000000e-01</td>\n",
       "      <td>8.660254e-01</td>\n",
       "      <td>69.5023</td>\n",
       "      <td>0.018089</td>\n",
       "      <td>0.000025</td>\n",
       "      <td>0.433884</td>\n",
       "      <td>-0.900969</td>\n",
       "      <td>-8.660254e-01</td>\n",
       "      <td>5.000000e-01</td>\n",
       "    </tr>\n",
       "    <tr>\n",
       "      <th>1219</th>\n",
       "      <td>75.6650</td>\n",
       "      <td>0.014533</td>\n",
       "      <td>0.000020</td>\n",
       "      <td>-0.433884</td>\n",
       "      <td>-0.900969</td>\n",
       "      <td>-7.071068e-01</td>\n",
       "      <td>-7.071068e-01</td>\n",
       "      <td>99.0968</td>\n",
       "      <td>0.014533</td>\n",
       "      <td>0.000020</td>\n",
       "      <td>...</td>\n",
       "      <td>-0.900969</td>\n",
       "      <td>-2.588190e-01</td>\n",
       "      <td>9.659258e-01</td>\n",
       "      <td>69.3457</td>\n",
       "      <td>0.018089</td>\n",
       "      <td>0.000025</td>\n",
       "      <td>0.433884</td>\n",
       "      <td>-0.900969</td>\n",
       "      <td>-5.000000e-01</td>\n",
       "      <td>8.660254e-01</td>\n",
       "    </tr>\n",
       "  </tbody>\n",
       "</table>\n",
       "<p>1217 rows × 28 columns</p>\n",
       "</div>"
      ],
      "text/plain": [
       "      heartrate  calories      METs  day_of_week_sin  day_of_week_cos  \\\n",
       "3       66.4935  0.013974  0.000019        -0.974928        -0.222521   \n",
       "4       97.2152  0.013974  0.000019        -0.974928        -0.222521   \n",
       "5      109.7140  0.013974  0.000019        -0.974928        -0.222521   \n",
       "6      120.9450  0.013974  0.000019        -0.974928        -0.222521   \n",
       "7       90.6203  0.013974  0.000019        -0.974928        -0.222521   \n",
       "...         ...       ...       ...              ...              ...   \n",
       "1215    69.5023  0.018089  0.000025         0.433884        -0.900969   \n",
       "1216    69.3457  0.018089  0.000025         0.433884        -0.900969   \n",
       "1217    66.9284  0.018089  0.000025         0.433884        -0.900969   \n",
       "1218    99.0968  0.014533  0.000020        -0.433884        -0.900969   \n",
       "1219    75.6650  0.014533  0.000020        -0.433884        -0.900969   \n",
       "\n",
       "          hour_sin      hour_cos  heartrate_lag1  calories_lag1  METs_lag1  \\\n",
       "3     9.659258e-01 -2.588190e-01         51.5436       0.013974   0.000019   \n",
       "4     1.224647e-16 -1.000000e+00         66.4935       0.013974   0.000019   \n",
       "5    -1.000000e+00 -1.836970e-16         97.2152       0.013974   0.000019   \n",
       "6    -8.660254e-01  5.000000e-01        109.7140       0.013974   0.000019   \n",
       "7    -2.588190e-01  9.659258e-01        120.9450       0.013974   0.000019   \n",
       "...            ...           ...             ...            ...        ...   \n",
       "1215 -8.660254e-01  5.000000e-01         85.8101       0.018089   0.000025   \n",
       "1216 -5.000000e-01  8.660254e-01         69.5023       0.018089   0.000025   \n",
       "1217 -2.588190e-01  9.659258e-01         69.3457       0.018089   0.000025   \n",
       "1218  8.660254e-01 -5.000000e-01         66.9284       0.018089   0.000025   \n",
       "1219 -7.071068e-01 -7.071068e-01         99.0968       0.014533   0.000020   \n",
       "\n",
       "      ...  day_of_week_cos_lag2  hour_sin_lag2  hour_cos_lag2  heartrate_lag3  \\\n",
       "3     ...             -0.900969  -8.660254e-01   5.000000e-01         88.2759   \n",
       "4     ...             -0.222521   9.659258e-01   2.588190e-01         70.6977   \n",
       "5     ...             -0.222521   9.659258e-01  -2.588190e-01         51.5436   \n",
       "6     ...             -0.222521   1.224647e-16  -1.000000e+00         66.4935   \n",
       "7     ...             -0.222521  -1.000000e+00  -1.836970e-16         97.2152   \n",
       "...   ...                   ...            ...            ...             ...   \n",
       "1215  ...             -0.900969  -7.071068e-01  -7.071068e-01         57.1004   \n",
       "1216  ...             -0.900969  -1.000000e+00  -1.836970e-16         95.5364   \n",
       "1217  ...             -0.900969  -8.660254e-01   5.000000e-01         85.8101   \n",
       "1218  ...             -0.900969  -5.000000e-01   8.660254e-01         69.5023   \n",
       "1219  ...             -0.900969  -2.588190e-01   9.659258e-01         69.3457   \n",
       "\n",
       "      calories_lag3  METs_lag3  day_of_week_sin_lag3  day_of_week_cos_lag3  \\\n",
       "3          0.006941   0.000010             -0.433884             -0.900969   \n",
       "4          0.006941   0.000010             -0.433884             -0.900969   \n",
       "5          0.013974   0.000019             -0.974928             -0.222521   \n",
       "6          0.013974   0.000019             -0.974928             -0.222521   \n",
       "7          0.013974   0.000019             -0.974928             -0.222521   \n",
       "...             ...        ...                   ...                   ...   \n",
       "1215       0.018089   0.000025              0.433884             -0.900969   \n",
       "1216       0.018089   0.000025              0.433884             -0.900969   \n",
       "1217       0.018089   0.000025              0.433884             -0.900969   \n",
       "1218       0.018089   0.000025              0.433884             -0.900969   \n",
       "1219       0.018089   0.000025              0.433884             -0.900969   \n",
       "\n",
       "      hour_sin_lag3  hour_cos_lag3  \n",
       "3     -9.659258e-01  -2.588190e-01  \n",
       "4     -8.660254e-01   5.000000e-01  \n",
       "5      9.659258e-01   2.588190e-01  \n",
       "6      9.659258e-01  -2.588190e-01  \n",
       "7      1.224647e-16  -1.000000e+00  \n",
       "...             ...            ...  \n",
       "1215   2.588190e-01  -9.659258e-01  \n",
       "1216  -7.071068e-01  -7.071068e-01  \n",
       "1217  -1.000000e+00  -1.836970e-16  \n",
       "1218  -8.660254e-01   5.000000e-01  \n",
       "1219  -5.000000e-01   8.660254e-01  \n",
       "\n",
       "[1217 rows x 28 columns]"
      ]
     },
     "execution_count": 7,
     "metadata": {},
     "output_type": "execute_result"
    }
   ],
   "source": [
    "ah_data['date'] = pd.to_datetime(ah_data['date'])\n",
    "\n",
    "ah_data['hour_sin'] = np.sin(2 * np.pi * ah_data[\"date\"].dt.hour/24.0)\n",
    "ah_data['hour_cos'] = np.cos(2 * np.pi * ah_data[\"date\"].dt.hour/24.0)\n",
    "ah_data['day_of_week_sin'] = np.sin(2 * np.pi * ah_data[\"date\"].dt.dayofweek/7.0)\n",
    "ah_data['day_of_week_cos'] = np.cos(2 * np.pi * ah_data[\"date\"].dt.dayofweek/7.0)\n",
    "\n",
    "ah_data = ah_data[[\"heartrate\", \"calories\", \"METs\", \"day_of_week_sin\", \"day_of_week_cos\", \"hour_sin\", \"hour_cos\"]]\n",
    "ah_data = pd.concat(\n",
    "  (\n",
    "    ah_data,\n",
    "    ah_data.shift(1).rename(columns=lambda x: x+'_lag1'),\n",
    "    ah_data.shift(2).rename(columns=lambda x: x+'_lag2'),\n",
    "    ah_data.shift(3).rename(columns=lambda x: x+'_lag3'),\n",
    "  ), axis=1)\n",
    "\n",
    "ah_data.dropna(inplace=True)\n",
    "ah_data"
   ]
  },
  {
   "cell_type": "code",
   "execution_count": 8,
   "metadata": {},
   "outputs": [],
   "source": [
    "# lst = list(range(3,len(ah_data)+3))\n",
    "# Id = pd.DataFrame(lst, index=lst)\n",
    "# Id"
   ]
  },
  {
   "cell_type": "code",
   "execution_count": 9,
   "metadata": {},
   "outputs": [],
   "source": [
    "# ah_data.insert(0, \"Id\", Id)\n",
    "# ah_data"
   ]
  },
  {
   "cell_type": "markdown",
   "metadata": {
    "id": "iFSFp0r_-J0y"
   },
   "source": [
    "### Prepaing dataset"
   ]
  },
  {
   "cell_type": "code",
   "execution_count": 10,
   "metadata": {},
   "outputs": [],
   "source": [
    "import tensorflow as tf"
   ]
  },
  {
   "cell_type": "code",
   "execution_count": 11,
   "metadata": {},
   "outputs": [],
   "source": [
    "from keras import backend as K"
   ]
  },
  {
   "cell_type": "code",
   "execution_count": 12,
   "metadata": {
    "id": "cGgXYM56r_DL"
   },
   "outputs": [],
   "source": [
    "def date2timesamp(date):\n",
    "    return time.mktime(datetime.datetime.strptime(date, \"%Y-%m-%d\").timetuple()) #%Y-%m-%d %H:%M:%S\n",
    "\n",
    "def resample(df, column='Value'):\n",
    "    df['Time'] =  pd.to_datetime(df['Time'])\n",
    "    df.set_index(['Time'], inplace=True)\n",
    "    df[column] = df[column].resample('1T').mean()\n",
    "    df.dropna(inplace=True)\n",
    "    return df\n",
    "\n",
    "def recall_m(y_true, y_pred):\n",
    "    true_positives = K.sum(K.round(K.clip(y_true * y_pred, 0, 1)))\n",
    "    possible_positives = K.sum(K.round(K.clip(y_true, 0, 1)))\n",
    "    recall = true_positives / (possible_positives + K.epsilon())\n",
    "    return recall\n",
    "\n",
    "def precision_m(y_true, y_pred):\n",
    "    true_positives = K.sum(K.round(K.clip(y_true * y_pred, 0, 1)))\n",
    "    predicted_positives = K.sum(K.round(K.clip(y_pred, 0, 1)))\n",
    "    precision = true_positives / (predicted_positives + K.epsilon())\n",
    "    return precision\n",
    "\n",
    "def f1(y_true, y_pred):\n",
    "    precision = precision_m(y_true, y_pred)\n",
    "    recall = recall_m(y_true, y_pred)\n",
    "    return 2*((precision*recall)/(precision+recall+K.epsilon()))"
   ]
  },
  {
   "cell_type": "code",
   "execution_count": 13,
   "metadata": {
    "id": "dRAX9fkwDzTZ"
   },
   "outputs": [],
   "source": [
    "dataset = pd.read_csv('askar/new_clusters_12.csv')\n",
    "dataset[\"date\"] = pd.to_datetime(dataset[\"date\"])\n",
    "\n",
    "dataset['hour_sin'] = np.sin(2 * np.pi * dataset[\"date\"].dt.hour/24.0)\n",
    "dataset['hour_cos'] = np.cos(2 * np.pi * dataset[\"date\"].dt.hour/24.0)\n",
    "dataset['day_of_week_sin'] = np.sin(2 * np.pi * dataset[\"date\"].dt.dayofweek/7.0)\n",
    "dataset['day_of_week_cos'] = np.cos(2 * np.pi * dataset[\"date\"].dt.dayofweek/7.0)"
   ]
  },
  {
   "cell_type": "code",
   "execution_count": 14,
   "metadata": {
    "scrolled": false
   },
   "outputs": [
    {
     "data": {
      "text/html": [
       "<div>\n",
       "<style scoped>\n",
       "    .dataframe tbody tr th:only-of-type {\n",
       "        vertical-align: middle;\n",
       "    }\n",
       "\n",
       "    .dataframe tbody tr th {\n",
       "        vertical-align: top;\n",
       "    }\n",
       "\n",
       "    .dataframe thead th {\n",
       "        text-align: right;\n",
       "    }\n",
       "</style>\n",
       "<table border=\"1\" class=\"dataframe\">\n",
       "  <thead>\n",
       "    <tr style=\"text-align: right;\">\n",
       "      <th></th>\n",
       "      <th>Id</th>\n",
       "      <th>heartrate</th>\n",
       "      <th>date</th>\n",
       "      <th>calories</th>\n",
       "      <th>METs</th>\n",
       "      <th>cluster</th>\n",
       "      <th>hour_sin</th>\n",
       "      <th>hour_cos</th>\n",
       "      <th>day_of_week_sin</th>\n",
       "      <th>day_of_week_cos</th>\n",
       "    </tr>\n",
       "  </thead>\n",
       "  <tbody>\n",
       "    <tr>\n",
       "      <th>0</th>\n",
       "      <td>0</td>\n",
       "      <td>70</td>\n",
       "      <td>2016-04-17 05:30:20</td>\n",
       "      <td>0.834023</td>\n",
       "      <td>1</td>\n",
       "      <td>3.0</td>\n",
       "      <td>0.965926</td>\n",
       "      <td>0.258819</td>\n",
       "      <td>-0.781831</td>\n",
       "      <td>0.62349</td>\n",
       "    </tr>\n",
       "    <tr>\n",
       "      <th>1</th>\n",
       "      <td>1</td>\n",
       "      <td>67</td>\n",
       "      <td>2016-04-17 05:30:25</td>\n",
       "      <td>0.834347</td>\n",
       "      <td>1</td>\n",
       "      <td>3.0</td>\n",
       "      <td>0.965926</td>\n",
       "      <td>0.258819</td>\n",
       "      <td>-0.781831</td>\n",
       "      <td>0.62349</td>\n",
       "    </tr>\n",
       "  </tbody>\n",
       "</table>\n",
       "</div>"
      ],
      "text/plain": [
       "   Id  heartrate                date  calories  METs  cluster  hour_sin  \\\n",
       "0   0         70 2016-04-17 05:30:20  0.834023     1      3.0  0.965926   \n",
       "1   1         67 2016-04-17 05:30:25  0.834347     1      3.0  0.965926   \n",
       "\n",
       "   hour_cos  day_of_week_sin  day_of_week_cos  \n",
       "0  0.258819        -0.781831          0.62349  \n",
       "1  0.258819        -0.781831          0.62349  "
      ]
     },
     "execution_count": 14,
     "metadata": {},
     "output_type": "execute_result"
    }
   ],
   "source": [
    "dataset.rename(columns = {'Unnamed: 0' : 'Id'}, inplace = True) \n",
    "dataset[:2]"
   ]
  },
  {
   "cell_type": "code",
   "execution_count": 15,
   "metadata": {
    "scrolled": true
   },
   "outputs": [
    {
     "data": {
      "text/plain": [
       "0                0\n",
       "1                1\n",
       "2                2\n",
       "3                3\n",
       "4                4\n",
       "            ...   \n",
       "5457294    5457294\n",
       "5457295    5457295\n",
       "5457296    5457296\n",
       "5457297    5457297\n",
       "5457298    5457298\n",
       "Name: Id, Length: 5457299, dtype: int64"
      ]
     },
     "execution_count": 15,
     "metadata": {},
     "output_type": "execute_result"
    }
   ],
   "source": [
    "dataset['Id']"
   ]
  },
  {
   "cell_type": "code",
   "execution_count": 16,
   "metadata": {
    "colab": {
     "base_uri": "https://localhost:8080/",
     "height": 294
    },
    "id": "LBU0GVuK-hhz",
    "outputId": "2b2164e1-e3f2-42bb-c73a-b99295cf817b",
    "scrolled": true
   },
   "outputs": [
    {
     "data": {
      "text/plain": [
       "<AxesSubplot:>"
      ]
     },
     "execution_count": 16,
     "metadata": {},
     "output_type": "execute_result"
    },
    {
     "data": {
      "image/png": "[encoded data removed]",
      "text/plain": [
       "<Figure size 432x288 with 1 Axes>"
      ]
     },
     "metadata": {
      "needs_background": "light"
     },
     "output_type": "display_data"
    }
   ],
   "source": [
    "dataset['cluster'].hist()"
   ]
  },
  {
   "cell_type": "code",
   "execution_count": 17,
   "metadata": {},
   "outputs": [
    {
     "ename": "NameError",
     "evalue": "name 'u' is not defined",
     "output_type": "error",
     "traceback": [
      "\u001b[1;31m---------------------------------------------------------------------------\u001b[0m",
      "\u001b[1;31mNameError\u001b[0m                                 Traceback (most recent call last)",
      "\u001b[1;32m~\\AppData\\Local\\Temp/ipykernel_20948/1136808918.py\u001b[0m in \u001b[0;36m<module>\u001b[1;34m\u001b[0m\n\u001b[1;32m----> 1\u001b[1;33m \u001b[0mu\u001b[0m\u001b[1;33m\u001b[0m\u001b[1;33m\u001b[0m\u001b[0m\n\u001b[0m",
      "\u001b[1;31mNameError\u001b[0m: name 'u' is not defined"
     ]
    }
   ],
   "source": [
    "u"
   ]
  },
  {
   "cell_type": "code",
   "execution_count": null,
   "metadata": {
    "id": "cAQ9CKtBJjk5"
   },
   "outputs": [],
   "source": [
    "X = dataset[[\"Id\", \"heartrate\", \"calories\", \"METs\", \"day_of_week_sin\", \"day_of_week_cos\", \"hour_sin\", \"hour_cos\"]]\n",
    "y = dataset[\"cluster\"]"
   ]
  },
  {
   "cell_type": "code",
   "execution_count": null,
   "metadata": {},
   "outputs": [],
   "source": [
    "X.head()"
   ]
  },
  {
   "cell_type": "code",
   "execution_count": null,
   "metadata": {},
   "outputs": [],
   "source": [
    "# X = pd.concat(\n",
    "#   (\n",
    "#     X,\n",
    "#     X.groupby(level=\"Id\").shift(1).rename(columns=lambda x: x+'_lag1'),\n",
    "#     X.groupby(level=\"Id\").shift(2).rename(columns=lambda x: x+'_lag2'),\n",
    "#     X.groupby(level=\"Id\").shift(3).rename(columns=lambda x: x+'_lag3'),\n",
    "#   ), axis=1)\n",
    "\n",
    "# Все превращает в NaN"
   ]
  },
  {
   "cell_type": "code",
   "execution_count": null,
   "metadata": {},
   "outputs": [],
   "source": [
    "X = pd.concat((\n",
    "    X,\n",
    "    X.shift(periods=1).rename(columns=lambda x: x+'_lag1'),\n",
    "    X.shift(periods=2).rename(columns=lambda x: x+'_lag2'),\n",
    "    X.shift(periods=3).rename(columns=lambda x: x+'_lag3') \n",
    "), axis=1)"
   ]
  },
  {
   "cell_type": "code",
   "execution_count": null,
   "metadata": {
    "scrolled": true
   },
   "outputs": [],
   "source": [
    "X.head()"
   ]
  },
  {
   "cell_type": "code",
   "execution_count": null,
   "metadata": {},
   "outputs": [],
   "source": [
    "X.drop(columns=['Id'], inplace=True)\n",
    "X.drop(columns=['Id_lag1'], inplace=True)\n",
    "X.drop(columns=['Id_lag2'], inplace=True)\n",
    "X.drop(columns=['Id_lag3'], inplace=True)"
   ]
  },
  {
   "cell_type": "code",
   "execution_count": null,
   "metadata": {},
   "outputs": [],
   "source": []
  },
  {
   "cell_type": "code",
   "execution_count": null,
   "metadata": {
    "id": "FhwgctcmDgVA"
   },
   "outputs": [],
   "source": [
    "# X = pd.concat(\n",
    "#   (\n",
    "#     X,\n",
    "#     X.groupby(level=\"Id\").shift(1).rename(columns=lambda x: x+'_lag1'),\n",
    "#     X.groupby(level=\"Id\").shift(2).rename(columns=lambda x: x+'_lag2'),\n",
    "#     X.groupby(level=\"Id\").shift(3).rename(columns=lambda x: x+'_lag3'),\n",
    "#   )\n",
    "X['cluster'] = y\n",
    "X.dropna(inplace=True)\n",
    "y = X['cluster']\n",
    "X.drop(columns=['cluster'], inplace=True)"
   ]
  },
  {
   "cell_type": "code",
   "execution_count": null,
   "metadata": {},
   "outputs": [],
   "source": [
    "X.head()"
   ]
  },
  {
   "cell_type": "code",
   "execution_count": null,
   "metadata": {},
   "outputs": [],
   "source": [
    "y.head()"
   ]
  },
  {
   "cell_type": "markdown",
   "metadata": {
    "id": "K3ZkOIdv-2DW"
   },
   "source": [
    "### Catboost classifie test"
   ]
  },
  {
   "cell_type": "code",
   "execution_count": null,
   "metadata": {
    "colab": {
     "base_uri": "https://localhost:8080/"
    },
    "id": "ysztBBazGVVy",
    "outputId": "44eaccf4-1689-4ac6-d1ac-e2b4cd764932"
   },
   "outputs": [],
   "source": [
    "#!pip install catboost"
   ]
  },
  {
   "cell_type": "code",
   "execution_count": null,
   "metadata": {
    "id": "Bgy_LQwBDY0v"
   },
   "outputs": [],
   "source": [
    "from catboost import CatBoostClassifier\n",
    "from sklearn.model_selection import train_test_split"
   ]
  },
  {
   "cell_type": "markdown",
   "metadata": {},
   "source": [
    "Split the data into `train`, `test` and `val` with ratio 4-to-2-to-1."
   ]
  },
  {
   "cell_type": "code",
   "execution_count": null,
   "metadata": {},
   "outputs": [],
   "source": [
    "# X_train, X_test, y_train, y_test = train_test_split(X, y, test_size=0.25)\n",
    "RANDOM_SEED = 42\n",
    "\n",
    "X_train, X_not_train, y_train, y_not_train = train_test_split(X, \n",
    "                                                              y, \n",
    "                                                              test_size = 3/7, #represent the proportion of the dataset to include in the test split\n",
    "                                                              shuffle=True,    #to shuffle the data\n",
    "                                                              stratify = None, #If not None, data is split in a stratified fashion, using this as the class labels.  \n",
    "                                                              random_state=RANDOM_SEED)\n",
    "X_test, X_val, y_test, y_val = train_test_split(X_not_train, \n",
    "                                                y_not_train, \n",
    "                                                test_size = 1/3, \n",
    "                                                shuffle=True, \n",
    "                                                stratify= None,\n",
    "                                                random_state=RANDOM_SEED)"
   ]
  },
  {
   "cell_type": "markdown",
   "metadata": {},
   "source": [
    "**CatBoost** — открытая программная библиотека, разработанная компанией Яндекс и реализующая уникальный патентованный алгоритм построения моделей машинного обучения, использующий одну из оригинальных схем градиентного бустинга. Основное API для работы с библиотекой реализовано для языка Python, также существует реализация для языка программирования R."
   ]
  },
  {
   "cell_type": "markdown",
   "metadata": {},
   "source": [
    "https://catboost.ai/en/docs/concepts/python-reference_catboostclassifier"
   ]
  },
  {
   "cell_type": "code",
   "execution_count": null,
   "metadata": {},
   "outputs": [],
   "source": [
    "from sklearn.metrics import accuracy_score\n",
    "from sklearn.metrics import f1_score       # метрика  \n",
    "from functools import partial"
   ]
  },
  {
   "cell_type": "code",
   "execution_count": null,
   "metadata": {},
   "outputs": [],
   "source": [
    "cls = CatBoostClassifier(task_type=\"GPU\") #, loss_function='Logloss')"
   ]
  },
  {
   "cell_type": "code",
   "execution_count": null,
   "metadata": {},
   "outputs": [],
   "source": [
    "loss_function = cls.fit(X_train, y_train)"
   ]
  },
  {
   "cell_type": "code",
   "execution_count": null,
   "metadata": {
    "colab": {
     "base_uri": "https://localhost:8080/",
     "height": 370
    },
    "id": "j4R4Cdx6El4z",
    "outputId": "7c4a14a3-7504-4d46-dea4-ba6528b3da93"
   },
   "outputs": [],
   "source": [
    "f1_score = partial(f1_score, average='macro')\n",
    "\n",
    "y_pred = cls.predict(X_train)\n",
    "print(\"train acc: {}\".format(accuracy_score(y_train, y_pred)))\n",
    "print(\"train f1: {}\".format(f1_score(y_train, y_pred)))\n",
    "\n",
    "y_pred = cls.predict(X_test)\n",
    "print(\"test acc: {}\".format(accuracy_score(y_test, y_pred)))\n",
    "print(\"test f1: {}\".format(f1_score(y_test, y_pred)))"
   ]
  },
  {
   "cell_type": "code",
   "execution_count": null,
   "metadata": {},
   "outputs": [],
   "source": [
    "ah_data[:2]"
   ]
  },
  {
   "cell_type": "code",
   "execution_count": null,
   "metadata": {},
   "outputs": [],
   "source": [
    "X_train[:2]"
   ]
  },
  {
   "cell_type": "code",
   "execution_count": null,
   "metadata": {},
   "outputs": [],
   "source": [
    "ah_pred_cb = cls.predict(ah_data)\n",
    "print(pd.DataFrame(ah_pred_cb).hist())"
   ]
  },
  {
   "cell_type": "code",
   "execution_count": null,
   "metadata": {},
   "outputs": [],
   "source": [
    "cls_coefs = cls.feature_importances_ # Return the calculated feature importances. \n",
    "cls_coefs"
   ]
  },
  {
   "cell_type": "code",
   "execution_count": null,
   "metadata": {},
   "outputs": [],
   "source": []
  },
  {
   "cell_type": "code",
   "execution_count": null,
   "metadata": {},
   "outputs": [],
   "source": []
  },
  {
   "cell_type": "code",
   "execution_count": null,
   "metadata": {},
   "outputs": [],
   "source": []
  },
  {
   "cell_type": "code",
   "execution_count": null,
   "metadata": {},
   "outputs": [],
   "source": []
  },
  {
   "cell_type": "code",
   "execution_count": null,
   "metadata": {},
   "outputs": [],
   "source": []
  },
  {
   "cell_type": "code",
   "execution_count": null,
   "metadata": {},
   "outputs": [],
   "source": []
  },
  {
   "cell_type": "markdown",
   "metadata": {
    "id": "UhWybAZw-7Ua"
   },
   "source": [
    "### TensorFlow model"
   ]
  },
  {
   "cell_type": "code",
   "execution_count": null,
   "metadata": {},
   "outputs": [],
   "source": [
    "from tensorflow.keras import Sequential\n",
    "from tensorflow.keras.layers import Dense, Flatten, Input, LSTM, Dropout, Bidirectional\n",
    "from tensorflow.keras.datasets import mnist\n",
    "from tensorflow.keras.losses import SparseCategoricalCrossentropy"
   ]
  },
  {
   "cell_type": "code",
   "execution_count": null,
   "metadata": {
    "colab": {
     "base_uri": "https://localhost:8080/"
    },
    "id": "02SFdjYtwReX",
    "outputId": "449c5030-8222-4527-960a-26e24bd40b88"
   },
   "outputs": [],
   "source": [
    "model = Sequential(\n",
    "  [\n",
    "    Input((4,7)),\n",
    "    Bidirectional(LSTM(256, return_sequences=True, recurrent_activation='sigmoid')),\n",
    "    LSTM(128, name=\"lstm-2\"),\n",
    "    Flatten(),\n",
    "    Dense(4),\n",
    "  ]\n",
    ")\n",
    "\n",
    "model.compile(optimizer='adam', loss = SparseCategoricalCrossentropy(from_logits=True), metrics=['acc', f1])\n",
    "model.summary()"
   ]
  },
  {
   "cell_type": "code",
   "execution_count": null,
   "metadata": {
    "id": "FK5NSaYUyOoh"
   },
   "outputs": [],
   "source": [
    "x_train_tf = np.asarray(X).reshape(-1, 4, 7)\n",
    "y_train_tf = np.asarray(y).reshape(-1, 1, 1)"
   ]
  },
  {
   "cell_type": "code",
   "execution_count": null,
   "metadata": {
    "colab": {
     "base_uri": "https://localhost:8080/"
    },
    "id": "5hhc1Cc4xabf",
    "outputId": "4421cd7c-6229-4b17-fa08-5471d9f0bc69"
   },
   "outputs": [],
   "source": [
    "model.fit(\n",
    "  x_train_tf,\n",
    "  y_train_tf,\n",
    "  batch_size=8192,\n",
    "  validation_split=0.2,\n",
    "  epochs=10\n",
    ")"
   ]
  },
  {
   "cell_type": "markdown",
   "metadata": {
    "id": "hsLerk9W_Hw6"
   },
   "source": [
    "### Results"
   ]
  },
  {
   "cell_type": "code",
   "execution_count": null,
   "metadata": {
    "colab": {
     "base_uri": "https://localhost:8080/"
    },
    "id": "PY7Ghm5RC7VB",
    "outputId": "507975aa-3d6f-496e-f583-c0d53ee528e8"
   },
   "outputs": [],
   "source": [
    "X_test = np.asarray(X_test).reshape(-1, 4, 7)\n",
    "result = model.predict(X_test, batch_size=4096)\n",
    "result = result.argmax(axis=1).astype(np.float32)\n",
    "f1_score(y_test, result)"
   ]
  },
  {
   "cell_type": "code",
   "execution_count": null,
   "metadata": {
    "colab": {
     "base_uri": "https://localhost:8080/",
     "height": 283
    },
    "id": "KaGSkEELFkHX",
    "outputId": "7a66049f-d65e-4c4b-c088-5148229225db"
   },
   "outputs": [],
   "source": [
    "ah_data = np.asarray(ah_data).reshape(-1, 4, 7)\n",
    "ah_result = model.predict(ah_data)\n",
    "print(pd.DataFrame(ah_result)[0].hist())\n",
    "\n",
    "# ah_result = ah_result.argmax(axis=1).astype(np.float32)\n",
    "# print(pd.DataFrame(ah_result).hist())"
   ]
  },
  {
   "cell_type": "code",
   "execution_count": null,
   "metadata": {
    "colab": {
     "base_uri": "https://localhost:8080/"
    },
    "id": "oLTlnpzmE-ES",
    "outputId": "b4b90843-a92f-42fd-eee8-9bba93132005"
   },
   "outputs": [],
   "source": [
    "acc = (result == y_test).sum() / y_test.shape[0]\n",
    "print(\"acc: {}\".format(acc))"
   ]
  },
  {
   "cell_type": "code",
   "execution_count": null,
   "metadata": {
    "colab": {
     "base_uri": "https://localhost:8080/",
     "height": 299
    },
    "id": "sdmn88ScUmUS",
    "outputId": "9da4c76a-83b1-4457-897b-885484577ae9"
   },
   "outputs": [],
   "source": [
    "# pd.DataFrame(y_test[result != y_test]).hist()\n",
    "print(pd.DataFrame(result).hist())"
   ]
  },
  {
   "cell_type": "code",
   "execution_count": null,
   "metadata": {
    "colab": {
     "base_uri": "https://localhost:8080/",
     "height": 294
    },
    "id": "48Ky-reO-FKE",
    "outputId": "a7ca9463-697a-4a10-a8da-c1586a37bf67"
   },
   "outputs": [],
   "source": [
    "print(y.hist())"
   ]
  },
  {
   "cell_type": "code",
   "execution_count": null,
   "metadata": {
    "colab": {
     "base_uri": "https://localhost:8080/"
    },
    "id": "nu_nwFpX4n6B",
    "outputId": "7063f968-077b-4d29-d4a2-4a31dea3cfa3"
   },
   "outputs": [],
   "source": [
    "result.max()"
   ]
  },
  {
   "cell_type": "code",
   "execution_count": null,
   "metadata": {
    "colab": {
     "base_uri": "https://localhost:8080/"
    },
    "id": "CPU7RTQz7zn9",
    "outputId": "d97d3910-e292-4598-e304-43d57130f2b0"
   },
   "outputs": [],
   "source": [
    "from sklearn.metrics import confusion_matrix\n",
    "\n",
    "# visualize the accuracy of predicted classes of potential amplitude\n",
    "conf_mat = confusion_matrix(y_test, result)\n",
    "print(conf_mat)"
   ]
  },
  {
   "cell_type": "markdown",
   "metadata": {},
   "source": [
    "# ----------------------"
   ]
  },
  {
   "cell_type": "code",
   "execution_count": null,
   "metadata": {},
   "outputs": [],
   "source": []
  },
  {
   "cell_type": "code",
   "execution_count": null,
   "metadata": {},
   "outputs": [],
   "source": []
  },
  {
   "cell_type": "code",
   "execution_count": null,
   "metadata": {},
   "outputs": [],
   "source": []
  },
  {
   "cell_type": "code",
   "execution_count": null,
   "metadata": {},
   "outputs": [],
   "source": []
  },
  {
   "cell_type": "code",
   "execution_count": null,
   "metadata": {},
   "outputs": [],
   "source": []
  },
  {
   "cell_type": "code",
   "execution_count": null,
   "metadata": {},
   "outputs": [],
   "source": []
  }
 ],
 "metadata": {
  "accelerator": "GPU",
  "colab": {
   "collapsed_sections": [
    "YQJpgoxE8qqm",
    "K3ZkOIdv-2DW",
    "UhWybAZw-7Ua",
    "hsLerk9W_Hw6"
   ],
   "name": "NN-tensorflow course.ipynb",
   "provenance": []
  },
  "kernelspec": {
   "display_name": "Python 3 (ipykernel)",
   "language": "python",
   "name": "python3"
  },
  "language_info": {
   "codemirror_mode": {
    "name": "ipython",
    "version": 3
   },
   "file_extension": ".py",
   "mimetype": "text/x-python",
   "name": "python",
   "nbconvert_exporter": "python",
   "pygments_lexer": "ipython3",
   "version": "3.9.7"
  }
 },
 "nbformat": 4,
 "nbformat_minor": 1
}
